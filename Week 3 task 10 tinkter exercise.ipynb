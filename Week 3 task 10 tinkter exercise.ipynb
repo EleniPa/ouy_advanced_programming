{
 "cells": [
  {
   "cell_type": "code",
   "execution_count": 1,
   "metadata": {},
   "outputs": [],
   "source": [
    "from tkinter import *"
   ]
  },
  {
   "cell_type": "code",
   "execution_count": 2,
   "metadata": {},
   "outputs": [],
   "source": [
    "window = Tk()\n",
    "window.title = (\"Iron Maiden\")\n",
    "window.geometry(\"650x400\")\n",
    "window.configure(bg = \"gray81\")"
   ]
  },
  {
   "cell_type": "code",
   "execution_count": 3,
   "metadata": {},
   "outputs": [],
   "source": [
    "# entry field, no actions taken with text yet\n",
    "name_entry = StringVar()\n",
    "entry_field = Entry(window, textvariable = name_entry)\n",
    "entry_field.place(x = 200, y = 100)\n",
    "name_label = Label(text = \"Name: \", bg = \"gray81\")\n",
    "name_label.place(x = 50, y = 100)"
   ]
  },
  {
   "cell_type": "code",
   "execution_count": 4,
   "metadata": {},
   "outputs": [],
   "source": [
    "#option menu members\n",
    "var_menu_mem = StringVar(window)\n",
    "maiden_members = [\"Bruce Dickenson\", \"Steve Harris\", \"Nicko McBrain\", \"Steve Harris\", \"Dave Murray\", \"Jannick Gers\"]\n",
    "var_menu_mem.set(maiden_members[0])\n",
    "options_members = OptionMenu(window, var_menu_mem, *maiden_members )\n",
    "options_members.place(x = 200, y = 150)\n",
    "mem_label = Label(text = \"Prefered member: \", bg = \"gray81\")\n",
    "mem_label.place(x = 50, y = 150)"
   ]
  },
  {
   "cell_type": "code",
   "execution_count": 5,
   "metadata": {},
   "outputs": [],
   "source": [
    "#option menu role\n",
    "var_menu_roles = StringVar(window)\n",
    "maiden_roles = [\"Lead Vocals\", \"Bass guitar\", \"Drums\", \"First Lead Guitar\", \"Second Lead Guitar\", \"Third Lead Guitar\"]\n",
    "var_menu_roles.set(maiden_roles[0])\n",
    "options_roles = OptionMenu(window, var_menu_roles, *maiden_roles )\n",
    "options_roles.place(x = 200, y = 200)\n",
    "role_label = Label(text = \"This member is the: \", bg = \"gray81\")\n",
    "role_label.place(x = 50, y = 200)"
   ]
  },
  {
   "cell_type": "code",
   "execution_count": 6,
   "metadata": {},
   "outputs": [],
   "source": [
    "#song radio box\n",
    "var_song = StringVar()\n",
    "song_frame = Frame(window, bg = \"gray61\")\n",
    "R1 = Radiobutton(song_frame, text = \"Hallowed be thy name\", variable = var_song, value = 1, bg = \"gray61\").pack(anchor = \"w\")\n",
    "R2 = Radiobutton(song_frame, text = \"Fear of the dark\", variable = var_song, value = 2, bg = \"gray61\").pack(anchor = \"w\")\n",
    "R3 = Radiobutton(song_frame, text = \"The Prophecy\", variable = var_song, value = 3, bg = \"gray61\").pack(anchor = \"w\")\n",
    "R4 = Radiobutton(song_frame, text = \"Rhyme of the ancient mariner\", variable = var_song, value = 4, bg = \"gray61\").pack(anchor = \"w\")\n",
    "song_frame.place(x = 400, y = 100)"
   ]
  },
  {
   "cell_type": "code",
   "execution_count": 7,
   "metadata": {},
   "outputs": [],
   "source": [
    "#Album checkbox\n",
    "albums = ['Number of the beast', 'Seventh son of a seventh son', 'Fear of the dark', 'Powerslave']\n",
    "album_frame = Frame(window, bg = \"gray61\")\n",
    "for album in albums:\n",
    "    var_album = StringVar(value = album)\n",
    "    cb = Checkbutton(album_frame, variable = var_album, text = album, bg = \"gray61\").pack(anchor = \"w\")\n",
    "album_frame.place(x = 400, y = 220)"
   ]
  },
  {
   "cell_type": "code",
   "execution_count": 8,
   "metadata": {},
   "outputs": [],
   "source": [
    "# entry field, no actions taken with text yet\n",
    "text_field = Text(window, height = 5, width = 30)\n",
    "text_field.place(x = 50, y = 250)"
   ]
  },
  {
   "cell_type": "code",
   "execution_count": 9,
   "metadata": {},
   "outputs": [],
   "source": [
    "clear_button = Button(window, text = \"Clear\").place(x = 50, y = 350)\n",
    "cancel_button = Button(window, text = \"Cancel\").place(x = 250, y = 350)\n",
    "submit_button = Button(window, text = \"Submit\").place(x = 300, y = 350)"
   ]
  },
  {
   "cell_type": "code",
   "execution_count": 10,
   "metadata": {},
   "outputs": [],
   "source": [
    "window.mainloop()"
   ]
  },
  {
   "cell_type": "code",
   "execution_count": null,
   "metadata": {},
   "outputs": [],
   "source": []
  }
 ],
 "metadata": {
  "kernelspec": {
   "display_name": "Python 3",
   "language": "python",
   "name": "python3"
  },
  "language_info": {
   "codemirror_mode": {
    "name": "ipython",
    "version": 3
   },
   "file_extension": ".py",
   "mimetype": "text/x-python",
   "name": "python",
   "nbconvert_exporter": "python",
   "pygments_lexer": "ipython3",
   "version": "3.8.3"
  }
 },
 "nbformat": 4,
 "nbformat_minor": 4
}
