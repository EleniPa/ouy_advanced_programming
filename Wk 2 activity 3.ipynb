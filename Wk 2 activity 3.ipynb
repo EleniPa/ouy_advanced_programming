{
 "cells": [
  {
   "cell_type": "markdown",
   "metadata": {},
   "source": [
    "This code needs correcting using try .. except\n",
    "\n",
    "Test this with the following pairs of values \n",
    "30 and 3, 5 and 45, 0 and 0, 'hit enter key' \n",
    "to find the type of error/s that are generated"
   ]
  },
  {
   "cell_type": "code",
   "execution_count": 47,
   "metadata": {},
   "outputs": [
    {
     "name": "stdout",
     "output_type": "stream",
     "text": [
      "Enter a number:3\n",
      "Enter another number:236523\n",
      "236523  is a multiple of  3\n",
      "Enter a number:124142\n",
      "Enter another number:234\n",
      "Numbers not divisible. Do you wish to continue? y/nn\n"
     ]
    }
   ],
   "source": [
    "# added value error and zero division error, with statements to explain error \n",
    "# through creation of a while loop, code to allow program to rerun with error corrected\n",
    "again = True\n",
    "while again == True:\n",
    "    try:\n",
    "        num1 = int(input(\"Enter a number:\" ))\n",
    "        num2 = int(input(\"Enter another number:\" ))\n",
    "    except ValueError:\n",
    "        print(\"Error: incorrect value entered. Please enter whole numbers only\")\n",
    "        continue\n",
    "        \n",
    "    try:\n",
    "        if num1 > num2:\n",
    "            if num1%num2 == 0:\n",
    "                print(num1, \" is a multiple of \", num2)\n",
    "            else: \n",
    "                cont = input(\"Numbers not divisible. Do you wish to continue? y/n\")\n",
    "                if cont == 'y' or cont == 'Y':\n",
    "                    continue\n",
    "                else: again = False\n",
    "        elif num2%num1 == 0:\n",
    "            print(num2, \" is a multiple of \", num1)\n",
    "        else:\n",
    "            cont = input(\"Numbers not divisible. Do you wish to continue? y/n\")\n",
    "            if cont == 'y' or cont == 'Y':\n",
    "                continue\n",
    "            else: again = False\n",
    "                \n",
    "    except ZeroDivisionError:\n",
    "        print(\"Error: division by zero is not possible\")\n",
    "        continue"
   ]
  },
  {
   "cell_type": "markdown",
   "metadata": {},
   "source": [
    "User input requires a list of space seperated words\n",
    "Create a small list to see what error is generated"
   ]
  },
  {
   "cell_type": "code",
   "execution_count": 17,
   "metadata": {},
   "outputs": [
    {
     "name": "stdout",
     "output_type": "stream",
     "text": [
      "List of names:paul frank harry\n",
      "Error: no name is present at this position in the list\n"
     ]
    }
   ],
   "source": [
    "names = input(\"List of names:\") \n",
    "nameList = names.split()\n",
    "try:\n",
    "    print(nameList[1000])\n",
    "except IndexError:\n",
    "    print(\"Error: no name is present at this position in the list\")\n",
    "    "
   ]
  },
  {
   "cell_type": "markdown",
   "metadata": {},
   "source": [
    "This is an easy misatke to make by users"
   ]
  },
  {
   "cell_type": "code",
   "execution_count": 23,
   "metadata": {},
   "outputs": [
    {
     "name": "stdout",
     "output_type": "stream",
     "text": [
      "670\n",
      "530\n",
      "Error: incorrect value entered\n"
     ]
    }
   ],
   "source": [
    "randomList = ['67', 53, '3O', 72, '10']\n",
    "\n",
    "try:\n",
    "    for i in randomList:\n",
    "        print(int(i) * 10)\n",
    "except ValueError: \n",
    "    print(\"Error: incorrect value entered\")"
   ]
  },
  {
   "cell_type": "markdown",
   "metadata": {},
   "source": [
    "validating user given file names, what can go wrong?"
   ]
  },
  {
   "cell_type": "code",
   "execution_count": 25,
   "metadata": {},
   "outputs": [
    {
     "name": "stdout",
     "output_type": "stream",
     "text": [
      "Enter File:big file\n",
      "Error: File not found\n"
     ]
    }
   ],
   "source": [
    "fileName = input(\"Enter File:\")\n",
    "try:\n",
    "    print(open(fileName).read())\n",
    "except FileNotFoundError:\n",
    "    print(\"Error: File not found\")"
   ]
  },
  {
   "cell_type": "code",
   "execution_count": null,
   "metadata": {},
   "outputs": [],
   "source": []
  }
 ],
 "metadata": {
  "kernelspec": {
   "display_name": "Python 3",
   "language": "python",
   "name": "python3"
  },
  "language_info": {
   "codemirror_mode": {
    "name": "ipython",
    "version": 3
   },
   "file_extension": ".py",
   "mimetype": "text/x-python",
   "name": "python",
   "nbconvert_exporter": "python",
   "pygments_lexer": "ipython3",
   "version": "3.8.3"
  }
 },
 "nbformat": 4,
 "nbformat_minor": 2
}
