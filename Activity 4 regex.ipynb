{
 "cells": [
  {
   "cell_type": "code",
   "execution_count": 1,
   "metadata": {},
   "outputs": [],
   "source": [
    "import re"
   ]
  },
  {
   "cell_type": "code",
   "execution_count": 18,
   "metadata": {},
   "outputs": [],
   "source": [
    "raven = open(\"The_Raven.txt\", \"r+\", encoding = \"utf8\")"
   ]
  },
  {
   "cell_type": "code",
   "execution_count": 3,
   "metadata": {},
   "outputs": [],
   "source": [
    "shrieked = re.compile(\"shrieked\")"
   ]
  },
  {
   "cell_type": "code",
   "execution_count": null,
   "metadata": {},
   "outputs": [],
   "source": []
  },
  {
   "cell_type": "code",
   "execution_count": 4,
   "metadata": {},
   "outputs": [],
   "source": [
    "raven.seek(0,0)\n",
    "shr_locs = []\n",
    "for word in raven:\n",
    "    result = shrieked.search(word)\n",
    "    if result:\n",
    "        shr_locs.append(word)"
   ]
  },
  {
   "cell_type": "code",
   "execution_count": 5,
   "metadata": {},
   "outputs": [
    {
     "data": {
      "text/plain": [
       "['\\tfiend!” I shrieked, upstarting –\\n']"
      ]
     },
     "execution_count": 5,
     "metadata": {},
     "output_type": "execute_result"
    }
   ],
   "source": [
    "#one line containing shrieked found\n",
    "shr_locs"
   ]
  },
  {
   "cell_type": "code",
   "execution_count": 6,
   "metadata": {},
   "outputs": [],
   "source": [
    "bleak = re.compile(\"bleak\")"
   ]
  },
  {
   "cell_type": "code",
   "execution_count": 7,
   "metadata": {},
   "outputs": [],
   "source": [
    "raven.seek(0,0)\n",
    "bleak_locs = []\n",
    "for word in raven:\n",
    "    result = bleak.search(word)\n",
    "    if result:\n",
    "        bleak_locs.append(word)"
   ]
  },
  {
   "cell_type": "code",
   "execution_count": 8,
   "metadata": {},
   "outputs": [
    {
     "data": {
      "text/plain": [
       "[]"
      ]
     },
     "execution_count": 8,
     "metadata": {},
     "output_type": "execute_result"
    }
   ],
   "source": [
    "#bleak not present in the doc\n",
    "bleak_locs"
   ]
  },
  {
   "cell_type": "code",
   "execution_count": 9,
   "metadata": {},
   "outputs": [
    {
     "name": "stdout",
     "output_type": "stream",
     "text": [
      "Number of instances of 'pp' in The Raven: 4.\n"
     ]
    }
   ],
   "source": [
    "# 4 instances of pp\n",
    "raven.seek(0,0)\n",
    "pp = re.compile(\".pp.\")\n",
    "\n",
    "count = 0\n",
    "for word in raven:\n",
    "    result = pp.search(word)\n",
    "    if result:\n",
    "        count += 1\n",
    "print(f\"Number of instances of 'pp' in The Raven: {count}.\")"
   ]
  },
  {
   "cell_type": "code",
   "execution_count": 26,
   "metadata": {},
   "outputs": [],
   "source": [
    "# replace ! with #\n",
    "raven.seek(0,0)\n",
    "count = 0\n",
    "revised_raven = []\n",
    "for word in raven:\n",
    "    subbed_exclam = re.sub(\"!\", \"#\", word)\n",
    "    revised_raven.append(subbed_exclam)"
   ]
  },
  {
   "cell_type": "code",
   "execution_count": 27,
   "metadata": {},
   "outputs": [
    {
     "data": {
      "text/plain": [
       "['Once upon a midnight dreary, while I\\n',\n",
       " '\\tpondered, weak and weary,\\n',\n",
       " 'Over many a quaint and curious volume of forgotten lore-\\n',\n",
       " 'While I nodded, nearly napping, suddenly\\n',\n",
       " '\\tthere came a tapping,\\n',\n",
       " 'As of some one gently rapping, rapping at my chamber door -\\n',\n",
       " \"'Tis some visitor,' I muttered, 'tapping at my chamber door -\\n\",\n",
       " \"Only this and nothing more,'\\n\",\n",
       " '\\n',\n",
       " '“Be that word our sign of parting, bird or\\n',\n",
       " '\\tfiend#” I shrieked, upstarting –\\n',\n",
       " '“Get thee back into the tempest and the\\n',\n",
       " '\\tNight’s Plutonian shore#\\n',\n",
       " 'Leave no black plume as a token of that\\n',\n",
       " '\\tLie thy soul hath spoken#\\n',\n",
       " 'Leave my loneliness unbroken# – quit the bust above my door#\\n',\n",
       " 'Take thy beak from my heart, and take \\n',\n",
       " 'thy form from off my door#”\\n',\n",
       " '\\tQuoth the raven ‘Nevermore.’\\n',\n",
       " '\\n',\n",
       " 'Exert form Edger Allen Poe\\'s \"The Raven\".\\n']"
      ]
     },
     "execution_count": 27,
     "metadata": {},
     "output_type": "execute_result"
    }
   ],
   "source": [
    "revised_raven"
   ]
  },
  {
   "cell_type": "code",
   "execution_count": 69,
   "metadata": {},
   "outputs": [],
   "source": [
    "# words that start t but don't end with e  #\n",
    "raven.seek(0,0)\n",
    "result = []\n",
    "for line in raven:\n",
    "    split = line.split(\" \")\n",
    "    for word in split:\n",
    "        t_word = re.search(\"^t.*(?<!e)$\", word)\n",
    "        if t_word:\n",
    "            result.append(t_word.group())"
   ]
  },
  {
   "cell_type": "code",
   "execution_count": 70,
   "metadata": {},
   "outputs": [
    {
     "data": {
      "text/plain": [
       "['tapping,', 'this', 'that', 'tempest', 'token', 'that', 'thy', 'thy', 'thy']"
      ]
     },
     "execution_count": 70,
     "metadata": {},
     "output_type": "execute_result"
    }
   ],
   "source": [
    "result"
   ]
  },
  {
   "cell_type": "code",
   "execution_count": null,
   "metadata": {},
   "outputs": [],
   "source": []
  }
 ],
 "metadata": {
  "kernelspec": {
   "display_name": "Python 3",
   "language": "python",
   "name": "python3"
  },
  "language_info": {
   "codemirror_mode": {
    "name": "ipython",
    "version": 3
   },
   "file_extension": ".py",
   "mimetype": "text/x-python",
   "name": "python",
   "nbconvert_exporter": "python",
   "pygments_lexer": "ipython3",
   "version": "3.8.3"
  }
 },
 "nbformat": 4,
 "nbformat_minor": 4
}
