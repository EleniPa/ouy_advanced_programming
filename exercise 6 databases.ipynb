{
 "cells": [
  {
   "cell_type": "code",
   "execution_count": 3,
   "metadata": {},
   "outputs": [],
   "source": [
    "import pymongo\n",
    "import json"
   ]
  },
  {
   "cell_type": "code",
   "execution_count": 4,
   "metadata": {},
   "outputs": [],
   "source": [
    "people = open(\"People.json\")"
   ]
  },
  {
   "cell_type": "code",
   "execution_count": 5,
   "metadata": {},
   "outputs": [],
   "source": [
    "client = pymongo.MongoClient(\"mongodb://localhost:27017/\")"
   ]
  },
  {
   "cell_type": "code",
   "execution_count": 8,
   "metadata": {},
   "outputs": [],
   "source": [
    "db = client[\"advancedProgramming\"]"
   ]
  },
  {
   "cell_type": "code",
   "execution_count": 9,
   "metadata": {},
   "outputs": [],
   "source": [
    "collection = db[\"people\"]"
   ]
  },
  {
   "cell_type": "code",
   "execution_count": 17,
   "metadata": {},
   "outputs": [],
   "source": [
    "people_decoded = json.load(people)"
   ]
  },
  {
   "cell_type": "code",
   "execution_count": 23,
   "metadata": {},
   "outputs": [],
   "source": [
    "student_list = people_decoded.get('students')"
   ]
  },
  {
   "cell_type": "code",
   "execution_count": 26,
   "metadata": {},
   "outputs": [],
   "source": [
    "ins = collection.insert_many(student_list)"
   ]
  },
  {
   "cell_type": "code",
   "execution_count": 71,
   "metadata": {},
   "outputs": [
    {
     "name": "stdout",
     "output_type": "stream",
     "text": [
      "{'fullName': {'first': 'Lisa', 'surname': 'Penny'}}\n",
      "{'fullName': {'first': 'Lorenzo', 'surname': 'Dubois'}}\n",
      "{'fullName': {'first': 'Tanveer', 'surname': 'Patel'}}\n"
     ]
    }
   ],
   "source": [
    "age_results = collection.find({'age':{'$gt': 25}}, {'_id': 0, 'fullName.first':1, 'fullName.surname':1})\n",
    "for r in age_results:\n",
    "    print(r)"
   ]
  },
  {
   "cell_type": "code",
   "execution_count": 111,
   "metadata": {},
   "outputs": [
    {
     "name": "stdout",
     "output_type": "stream",
     "text": [
      "{'_id': ObjectId('5fb288604e0fa15c4ff9b6eb')}\n"
     ]
    }
   ],
   "source": [
    "no_middle = collection.find({'fullName.other': {'$eq': None}}, {})\n",
    "for entry in no_middle:\n",
    "    print(entry)"
   ]
  },
  {
   "cell_type": "code",
   "execution_count": 122,
   "metadata": {},
   "outputs": [
    {
     "name": "stdout",
     "output_type": "stream",
     "text": [
      "Number of men not in Tokyo: 2\n"
     ]
    }
   ],
   "source": [
    "men_not_tokyo = collection.find({'fullName.title': {'$eq': 'Mr'}, 'city': {'$ne': 'Tokyo'}})\n",
    "count = 0\n",
    "for man in men_not_tokyo:\n",
    "    count += 1\n",
    "print(f\"Number of men not in Tokyo: {count}\")"
   ]
  },
  {
   "cell_type": "code",
   "execution_count": 123,
   "metadata": {},
   "outputs": [
    {
     "name": "stdout",
     "output_type": "stream",
     "text": [
      "Number of men not in Tokyo: 2\n"
     ]
    }
   ],
   "source": [
    "women_not_tokyo = collection.find({'fullName.title': {'$in': ['Mrs', 'Miss']}, 'city': {'$ne': 'Tokyo'}})\n",
    "count = 0\n",
    "for women in women_not_tokyo:\n",
    "    count += 1\n",
    "print(f\"Number of men not in Tokyo: {count}\")"
   ]
  }
 ],
 "metadata": {
  "kernelspec": {
   "display_name": "Python 3",
   "language": "python",
   "name": "python3"
  },
  "language_info": {
   "codemirror_mode": {
    "name": "ipython",
    "version": 3
   },
   "file_extension": ".py",
   "mimetype": "text/x-python",
   "name": "python",
   "nbconvert_exporter": "python",
   "pygments_lexer": "ipython3",
   "version": "3.8.3"
  }
 },
 "nbformat": 4,
 "nbformat_minor": 4
}
