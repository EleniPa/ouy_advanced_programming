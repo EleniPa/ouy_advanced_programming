{
 "cells": [
  {
   "cell_type": "code",
   "execution_count": 1,
   "metadata": {},
   "outputs": [
    {
     "name": "stdout",
     "output_type": "stream",
     "text": [
      "Which times table would you like to see?: 60\n",
      "The even timetable for 60 is: \n",
      "\t2 times 60 is 120\n",
      "\t4 times 60 is 240\n",
      "\t6 times 60 is 360\n",
      "\t8 times 60 is 480\n",
      "\t10 times 60 is 600\n",
      "\t12 times 60 is 720\n",
      "\t14 times 60 is 840\n",
      "\t16 times 60 is 960\n",
      "\t18 times 60 is 1080\n",
      "\t20 times 60 is 1200\n",
      "Would you like to go again?n\n"
     ]
    }
   ],
   "source": [
    "# Exercise 1\n",
    "#  multiples of specified integer up to  x 20\n",
    "#  option to go again offered to the user\n",
    "\n",
    "\n",
    "num = int(input(\"Which times table would you like to see?: \"))\n",
    "multiples = 20\n",
    "\n",
    "print(f\"The even timetable for {num} is: \")\n",
    "while True:\n",
    "    for i in range(2, multiples+1, 2):\n",
    "        value = (i * num)\n",
    "        print(f\"\\t{i} times {num} is {value}\")\n",
    "    again = str(input(\"Would you like to go again?\"))\n",
    "    if \"y\" in again:\n",
    "        num = int(input(\"Which times table would you like to see?: \"))\n",
    "    else:\n",
    "        break"
   ]
  },
  {
   "cell_type": "code",
   "execution_count": 24,
   "metadata": {},
   "outputs": [
    {
     "name": "stdout",
     "output_type": "stream",
     "text": [
      "      \n",
      "     *\n",
      "    **\n",
      "   ***\n",
      "  ****\n"
     ]
    }
   ],
   "source": [
    "# Exercise 2\n",
    "\n",
    "spaces = \"     \"\n",
    "for i in range(len(spaces)):\n",
    "    print(spaces[i:len(spaces)], '*'*i)\n"
   ]
  },
  {
   "cell_type": "code",
   "execution_count": 59,
   "metadata": {},
   "outputs": [
    {
     "name": "stdout",
     "output_type": "stream",
     "text": [
      "    \n",
      "   *\n",
      "  ***\n",
      " *****\n",
      "  ***\n",
      "   *\n"
     ]
    }
   ],
   "source": [
    "spaces = \"   \"\n",
    "for i in range(len(spaces)):\n",
    "    print(spaces[i:len(spaces)], '*' * i, end = \"\") \n",
    "    print('*' * (i-1))\n",
    "for i in range(len(spaces)):\n",
    "    print(spaces[0:i], '*' * (len(spaces)-i), end = \"\")\n",
    "    print('*' * (len(spaces) - (i+1)))"
   ]
  },
  {
   "cell_type": "code",
   "execution_count": 193,
   "metadata": {},
   "outputs": [
    {
     "name": "stdout",
     "output_type": "stream",
     "text": [
      "How many days in the month?29\n",
      "Which day of the week does the month start on?5\n",
      "M \tT \tW \tTh \tF \tS \tSu\n",
      "                                1 \t2 \t3 \t\n",
      "\n",
      "2 \t3 \t4 \t5 \t6 \t7 \t8 \t\n",
      "\n",
      "9 \t10 \t11 \t12 \t13 \t14 \t15 \t\n",
      "\n",
      "16 \t17 \t18 \t19 \t20 \t21 \t22 \t\n",
      "\n",
      "23 \t24 \t25 \t26 \t27 \t28 \t29 \t\n",
      "\n"
     ]
    }
   ],
   "source": [
    "# Exercise 3\n",
    "\n",
    "n_days = int(input(\"How many days in the month?\"))\n",
    "start_day = int(input(\"Which day of the week does the month start on?\"))\n",
    "week_one_length = 8 - start_day\n",
    "week_starts = range(week_one_len + 1, n_days, 7)\n",
    "\n",
    "print(\"M\", \"\\tT\", \"\\tW\", \"\\tTh\", \"\\tF\", \"\\tS\", \"\\tSu\")\n",
    "\n",
    "tab = \"        \"\n",
    "print(tab * (7 - week_one_length), end = \"\")\n",
    "\n",
    "for i in range(1, 8 - start_day+1):\n",
    "    print(i, \"\\t\", end = \"\")\n",
    "print(\"\\n\")\n",
    "\n",
    "for start in week_starts:\n",
    "    for day in range(start, start+7):\n",
    "        if day > n_days:\n",
    "            break\n",
    "        print(day, \"\\t\", end = \"\")\n",
    "    print(\"\\n\")"
   ]
  },
  {
   "cell_type": "code",
   "execution_count": null,
   "metadata": {},
   "outputs": [],
   "source": []
  }
 ],
 "metadata": {
  "kernelspec": {
   "display_name": "Python 3",
   "language": "python",
   "name": "python3"
  },
  "language_info": {
   "codemirror_mode": {
    "name": "ipython",
    "version": 3
   },
   "file_extension": ".py",
   "mimetype": "text/x-python",
   "name": "python",
   "nbconvert_exporter": "python",
   "pygments_lexer": "ipython3",
   "version": "3.8.3"
  }
 },
 "nbformat": 4,
 "nbformat_minor": 4
}
