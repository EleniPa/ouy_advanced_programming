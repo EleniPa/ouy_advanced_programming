{
 "cells": [
  {
   "cell_type": "code",
   "execution_count": null,
   "metadata": {},
   "outputs": [],
   "source": [
    "from tkinter import *"
   ]
  },
  {
   "cell_type": "markdown",
   "metadata": {},
   "source": [
    "## checkbutton"
   ]
  },
  {
   "cell_type": "code",
   "execution_count": null,
   "metadata": {},
   "outputs": [],
   "source": [
    "# demonstrating place()\n",
    "from tkinter import ttk\n",
    "window_check = Tk()\n",
    "window_check.title(\"Check button window with place positioning\")\n",
    "window_check.geometry(\"400x300\")\n",
    "check_1 = ttk.Checkbutton(window_check, text = \"Pandemic\", variable = IntVar(), onvalue = 1, offvalue = 0)\n",
    "check_2 = ttk.Checkbutton(window_check, text = \"Donald Trump\", variable = IntVar(), onvalue = 1, offvalue = 0)\n",
    "check_3 = ttk.Checkbutton(window_check, text = \"Global Warming\", variable = IntVar(), onvalue = 1, offvalue = 0)\n",
    "check_1.place(x = 0, y = 0)\n",
    "check_2.place(x= 200, y = 150)\n",
    "check_3.place(x = 400, y = 300)"
   ]
  },
  {
   "cell_type": "code",
   "execution_count": null,
   "metadata": {},
   "outputs": [],
   "source": [
    "window_check.mainloop()"
   ]
  },
  {
   "cell_type": "markdown",
   "metadata": {},
   "source": [
    "# Radio button"
   ]
  },
  {
   "cell_type": "code",
   "execution_count": null,
   "metadata": {},
   "outputs": [],
   "source": [
    "# demonstrating grid()\n",
    "var = IntVar()\n",
    "r_1 = Radiobutton(window, text = \"Potato\", variable = var, value = 1).grid(row = 0, column = 0)\n",
    "r_2 = Radiobutton(window, text = \"Baked Potato\", variable = var, value = 2)\\\n",
    "    .grid(row = 200, column = 100)\n",
    "r_3 = Radiobutton(window, text = \"Come on, Baked Potato!\", variable = var, value = 3)\\\n",
    "    .grid(row = 400, column = 300)\n",
    "window.geometry(\"400x300\")"
   ]
  },
  {
   "cell_type": "code",
   "execution_count": null,
   "metadata": {},
   "outputs": [],
   "source": [
    "window.mainloop()"
   ]
  },
  {
   "cell_type": "markdown",
   "metadata": {},
   "source": [
    "## Listbox"
   ]
  },
  {
   "cell_type": "code",
   "execution_count": null,
   "metadata": {},
   "outputs": [],
   "source": [
    "Lb = Listbox(window)\n",
    "\n",
    "Lb.insert(2, \"St Werburghs\")\n",
    "Lb.insert(1, \"Hotwells\")\n",
    "Lb.insert(3, \"Stoke Park\")\n",
    "Lb.insert(4, \"Stroud\")\n",
    "\n",
    "Lb.pack()"
   ]
  },
  {
   "cell_type": "markdown",
   "metadata": {},
   "source": [
    "## message"
   ]
  },
  {
   "cell_type": "code",
   "execution_count": null,
   "metadata": {},
   "outputs": [],
   "source": [
    "var = StringVar()\n",
    "var.set(\"Baked potato?\")\n",
    "label = Message(window, textvariable = var, relief = RAISED)\n",
    "label.pack()"
   ]
  },
  {
   "cell_type": "markdown",
   "metadata": {},
   "source": [
    "## scale"
   ]
  },
  {
   "cell_type": "code",
   "execution_count": null,
   "metadata": {},
   "outputs": [],
   "source": [
    "def sel():\n",
    "    selection = \"Result = \" + str(var.get())\n",
    "    label.config(text = selection)\n",
    "    \n",
    "var = DoubleVar()\n",
    "scale = Scale(window, variable = var)\n",
    "scale.pack(anchor = CENTER)\n",
    "\n",
    "button = Button(window, text = \"Get scale value\", command = sel)\n",
    "button.pack(anchor = CENTER)\n",
    "\n",
    "label = Label(window)\n",
    "label.pack()"
   ]
  },
  {
   "cell_type": "markdown",
   "metadata": {},
   "source": [
    "## text"
   ]
  },
  {
   "cell_type": "code",
   "execution_count": null,
   "metadata": {},
   "outputs": [],
   "source": [
    "text = Text(window)\n",
    "text.insert(INSERT, \"Hello.....\")\n",
    "text.insert(END, \"Bye Bye.....\")\n",
    "text.pack()\n",
    "\n",
    "text.tag_add(\"here\", \"1.0\", \"1.4\")\n",
    "text.tag_add(\"start\", \"1.8\", \"1.13\")\n",
    "text.tag_config(\"here\", background=\"yellow\", foreground=\"blue\")\n",
    "text.tag_config(\"start\", background=\"black\", foreground=\"green\")"
   ]
  },
  {
   "cell_type": "markdown",
   "metadata": {},
   "source": [
    "## spin box"
   ]
  },
  {
   "cell_type": "code",
   "execution_count": null,
   "metadata": {},
   "outputs": [],
   "source": [
    "spin = Spinbox(window, from_ = 0, to = 10)\n",
    "spin.pack()\n"
   ]
  },
  {
   "cell_type": "markdown",
   "metadata": {},
   "source": [
    "## main loop"
   ]
  },
  {
   "cell_type": "code",
   "execution_count": null,
   "metadata": {},
   "outputs": [],
   "source": [
    "window.mainloop()"
   ]
  },
  {
   "cell_type": "code",
   "execution_count": null,
   "metadata": {},
   "outputs": [],
   "source": []
  }
 ],
 "metadata": {
  "kernelspec": {
   "display_name": "Python 3",
   "language": "python",
   "name": "python3"
  },
  "language_info": {
   "codemirror_mode": {
    "name": "ipython",
    "version": 3
   },
   "file_extension": ".py",
   "mimetype": "text/x-python",
   "name": "python",
   "nbconvert_exporter": "python",
   "pygments_lexer": "ipython3",
   "version": "3.8.3"
  }
 },
 "nbformat": 4,
 "nbformat_minor": 4
}
