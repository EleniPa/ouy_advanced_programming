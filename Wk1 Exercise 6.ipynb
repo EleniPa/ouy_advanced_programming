{
 "cells": [
  {
   "cell_type": "code",
   "execution_count": 3,
   "metadata": {},
   "outputs": [],
   "source": [
    "import conversions"
   ]
  },
  {
   "cell_type": "code",
   "execution_count": 5,
   "metadata": {},
   "outputs": [
    {
     "name": "stdout",
     "output_type": "stream",
     "text": [
      "\n",
      "    Please make choose the conversion you'd like to make\n",
      "    1. Feet and Inches to metres\n",
      "    2. Pounds to Kilos\n",
      "    3. Kelvin to celcius\n",
      "    4. Hours and minutes to seconds\n",
      "    5. Exit\n",
      "    2\n",
      "Please enter value in pounds4\n",
      "The converted value is 1.81 kilos\n"
     ]
    },
    {
     "ename": "KeyboardInterrupt",
     "evalue": "Interrupted by user",
     "output_type": "error",
     "traceback": [
      "\u001b[1;31m---------------------------------------------------------------------------\u001b[0m",
      "\u001b[1;31mKeyboardInterrupt\u001b[0m                         Traceback (most recent call last)",
      "\u001b[1;32m<ipython-input-5-f9677bcfdfd5>\u001b[0m in \u001b[0;36m<module>\u001b[1;34m\u001b[0m\n\u001b[0;32m     30\u001b[0m \u001b[1;33m\u001b[0m\u001b[0m\n\u001b[0;32m     31\u001b[0m \u001b[1;32mwhile\u001b[0m \u001b[1;32mTrue\u001b[0m\u001b[1;33m:\u001b[0m\u001b[1;33m\u001b[0m\u001b[1;33m\u001b[0m\u001b[0m\n\u001b[1;32m---> 32\u001b[1;33m     choice = input(\"\"\"\n\u001b[0m\u001b[0;32m     33\u001b[0m     \u001b[0mPlease\u001b[0m \u001b[0mmake\u001b[0m \u001b[0mchoose\u001b[0m \u001b[0mthe\u001b[0m \u001b[0mconversion\u001b[0m \u001b[0myou\u001b[0m\u001b[0;31m'\u001b[0m\u001b[0md\u001b[0m \u001b[0mlike\u001b[0m \u001b[0mto\u001b[0m \u001b[0mmake\u001b[0m\u001b[1;33m\u001b[0m\u001b[1;33m\u001b[0m\u001b[0m\n\u001b[0;32m     34\u001b[0m     \u001b[1;36m1.\u001b[0m \u001b[0mFeet\u001b[0m \u001b[1;32mand\u001b[0m \u001b[0mInches\u001b[0m \u001b[0mto\u001b[0m \u001b[0mmetres\u001b[0m\u001b[1;33m\u001b[0m\u001b[1;33m\u001b[0m\u001b[0m\n",
      "\u001b[1;32m~\\anaconda3\\lib\\site-packages\\ipykernel\\kernelbase.py\u001b[0m in \u001b[0;36mraw_input\u001b[1;34m(self, prompt)\u001b[0m\n\u001b[0;32m    858\u001b[0m                 \u001b[1;34m\"raw_input was called, but this frontend does not support input requests.\"\u001b[0m\u001b[1;33m\u001b[0m\u001b[1;33m\u001b[0m\u001b[0m\n\u001b[0;32m    859\u001b[0m             )\n\u001b[1;32m--> 860\u001b[1;33m         return self._input_request(str(prompt),\n\u001b[0m\u001b[0;32m    861\u001b[0m             \u001b[0mself\u001b[0m\u001b[1;33m.\u001b[0m\u001b[0m_parent_ident\u001b[0m\u001b[1;33m,\u001b[0m\u001b[1;33m\u001b[0m\u001b[1;33m\u001b[0m\u001b[0m\n\u001b[0;32m    862\u001b[0m             \u001b[0mself\u001b[0m\u001b[1;33m.\u001b[0m\u001b[0m_parent_header\u001b[0m\u001b[1;33m,\u001b[0m\u001b[1;33m\u001b[0m\u001b[1;33m\u001b[0m\u001b[0m\n",
      "\u001b[1;32m~\\anaconda3\\lib\\site-packages\\ipykernel\\kernelbase.py\u001b[0m in \u001b[0;36m_input_request\u001b[1;34m(self, prompt, ident, parent, password)\u001b[0m\n\u001b[0;32m    902\u001b[0m             \u001b[1;32mexcept\u001b[0m \u001b[0mKeyboardInterrupt\u001b[0m\u001b[1;33m:\u001b[0m\u001b[1;33m\u001b[0m\u001b[1;33m\u001b[0m\u001b[0m\n\u001b[0;32m    903\u001b[0m                 \u001b[1;31m# re-raise KeyboardInterrupt, to truncate traceback\u001b[0m\u001b[1;33m\u001b[0m\u001b[1;33m\u001b[0m\u001b[1;33m\u001b[0m\u001b[0m\n\u001b[1;32m--> 904\u001b[1;33m                 \u001b[1;32mraise\u001b[0m \u001b[0mKeyboardInterrupt\u001b[0m\u001b[1;33m(\u001b[0m\u001b[1;34m\"Interrupted by user\"\u001b[0m\u001b[1;33m)\u001b[0m \u001b[1;32mfrom\u001b[0m \u001b[1;32mNone\u001b[0m\u001b[1;33m\u001b[0m\u001b[1;33m\u001b[0m\u001b[0m\n\u001b[0m\u001b[0;32m    905\u001b[0m             \u001b[1;32mexcept\u001b[0m \u001b[0mException\u001b[0m \u001b[1;32mas\u001b[0m \u001b[0me\u001b[0m\u001b[1;33m:\u001b[0m\u001b[1;33m\u001b[0m\u001b[1;33m\u001b[0m\u001b[0m\n\u001b[0;32m    906\u001b[0m                 \u001b[0mself\u001b[0m\u001b[1;33m.\u001b[0m\u001b[0mlog\u001b[0m\u001b[1;33m.\u001b[0m\u001b[0mwarning\u001b[0m\u001b[1;33m(\u001b[0m\u001b[1;34m\"Invalid Message:\"\u001b[0m\u001b[1;33m,\u001b[0m \u001b[0mexc_info\u001b[0m\u001b[1;33m=\u001b[0m\u001b[1;32mTrue\u001b[0m\u001b[1;33m)\u001b[0m\u001b[1;33m\u001b[0m\u001b[1;33m\u001b[0m\u001b[0m\n",
      "\u001b[1;31mKeyboardInterrupt\u001b[0m: Interrupted by user"
     ]
    }
   ],
   "source": [
    "choice_menu = {'1':{'input_units':['feet', 'inches'], 'output_units': 'metres', \n",
    "                    'functions': [conversions.length_feet, conversions.length_inches]},\n",
    "                '2': {'input_units':['pounds'], 'output_units': 'kilos', \n",
    "                      'functions': conversions.mass},\n",
    "                '3': {'input_units': ['kelvin'], 'output_units': 'celcius', \n",
    "                      'functions': conversions.temperature},\n",
    "                '4': {'input_units':['hours', 'minutes'], 'output_units': 'seconds', \n",
    "                      'functions': [conversions.time_hours, conversions.time_minutes]}}\n",
    "\n",
    "def get_input(choice):\n",
    "    if choice in ['1','4']:\n",
    "        major_unit = choice_menu.get(choice).get('input_units')[0]\n",
    "        minor_unit = choice_menu.get(choice).get('input_units')[1]\n",
    "        major_input = int(input(f\"Please enter value in {major_unit}\"))\n",
    "        minor_input = int(input(f\"Please enter value in {minor_unit}\"))\n",
    "        return major_input, minor_input\n",
    "    else:\n",
    "        major_unit = choice_menu.get(choice).get('input_units')[0]\n",
    "        major_input = int(input(f\"Please enter value in {major_unit}\"))\n",
    "        return major_input\n",
    "    \n",
    "def get_functions(choice):\n",
    "    if choice in ['2','3']:\n",
    "        major_function = choice_menu.get(choice).get('functions')\n",
    "        return major_function\n",
    "    else:\n",
    "        major_function = choice_menu.get(choice).get('functions')[0]\n",
    "        minor_function = choice_menu.get(choice).get('functions')[1]\n",
    "        return major_function, minor_function\n",
    "    \n",
    "while True:\n",
    "    choice = input(\"\"\"\n",
    "    Please make choose the conversion you'd like to make\n",
    "    1. Feet and Inches to metres\n",
    "    2. Pounds to Kilos\n",
    "    3. Kelvin to celcius\n",
    "    4. Hours and minutes to seconds\n",
    "    5. Exit\n",
    "    \"\"\")\n",
    "    if choice not in ['1','2','3','4','5']:\n",
    "        print('\\nIncorrect input: try again')\n",
    "        continue\n",
    "    elif choice in ['1', '4']:\n",
    "        major_input, minor_input = get_input(choice)\n",
    "        major_function, minor_function = get_functions(choice)\n",
    "        major_result = major_function(major_input)\n",
    "        minor_result = minor_function(minor_input)\n",
    "        unit = choice_menu.get(choice).get('output_units')\n",
    "        print(f\"The converted value is {major_result + minor_result:.2f} {unit}\")\n",
    "    elif choice in ['2','3']:\n",
    "        major_input = get_input(choice)\n",
    "        if choice == '3' and major_input < 0:\n",
    "            print(\"Error: Minimum temperature in Kelvin is 0. Please try again.\")\n",
    "            continue\n",
    "        major_function = get_functions(choice)\n",
    "        major_result = major_function(major_input)\n",
    "        unit = choice_menu.get(choice).get('output_units')\n",
    "        print(f\"The converted value is {major_result:.2f} {unit}\")\n",
    "    else:\n",
    "        print(\"Thanks, goodbye!\")\n",
    "        break\n",
    "    \n",
    "    "
   ]
  },
  {
   "cell_type": "code",
   "execution_count": null,
   "metadata": {},
   "outputs": [],
   "source": []
  }
 ],
 "metadata": {
  "kernelspec": {
   "display_name": "Python 3",
   "language": "python",
   "name": "python3"
  },
  "language_info": {
   "codemirror_mode": {
    "name": "ipython",
    "version": 3
   },
   "file_extension": ".py",
   "mimetype": "text/x-python",
   "name": "python",
   "nbconvert_exporter": "python",
   "pygments_lexer": "ipython3",
   "version": "3.8.3"
  }
 },
 "nbformat": 4,
 "nbformat_minor": 4
}
