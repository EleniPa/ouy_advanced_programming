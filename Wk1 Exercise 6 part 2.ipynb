{
 "cells": [
  {
   "cell_type": "code",
   "execution_count": 154,
   "metadata": {},
   "outputs": [],
   "source": [
    "# Create Name class with formal_name method\n",
    "class Name(object):\n",
    "    def __init__(self, first_name, surname, title, *other_names):\n",
    "        self.first = first_name\n",
    "        self.surname = surname\n",
    "        self.title = title\n",
    "        self.other = (other_names)\n",
    "    \n",
    "    def formal_name(self):\n",
    "        first_initial = self.first.upper()[0]\n",
    "        middle_initials = \"\"\n",
    "        for name in self.other:\n",
    "            middle_initials += str(name[0]) + \". \"\n",
    "        return (f\"{self.title}. {first_initial}. {middle_initials}{self.surname}\")\n"
   ]
  },
  {
   "cell_type": "code",
   "execution_count": 257,
   "metadata": {},
   "outputs": [],
   "source": [
    "# person class taken from canvas\n",
    "class Person(object):\n",
    "    def __init__(self, first_name, surname, title, address, age, *other_names):\n",
    "        self.name = first_name + \" \" + surname\n",
    "        self.address = address\n",
    "        self.age = age\n",
    "        self.formal_name = Name(first_name, surname, title, *other_names).formal_name() #composition\n",
    "        \n",
    "    def personal_details(self):\n",
    "        return self.name, self.formal_name, self.address, self.age"
   ]
  },
  {
   "cell_type": "code",
   "execution_count": null,
   "metadata": {},
   "outputs": [],
   "source": [
    "# Create a sub-class of Student for DistanceStudent and add the attribute currentModule.\n",
    "# Using this structure and any other appropriate methods, create a DistanceStudent and printout the following:\n",
    "# Mr J. S. Greenhold is currently studying the Advanced Programming module."
   ]
  },
  {
   "cell_type": "code",
   "execution_count": 308,
   "metadata": {},
   "outputs": [],
   "source": [
    "class Tutor(Person):\n",
    "    id = 0\n",
    "    def __init__(self, first_name, surname, title, address, age, salary, id, *other_names):\n",
    "        super(Tutor, self).__init__(first_name, surname, title, address, age, *other_names)\n",
    "        self.salary = salary\n",
    "        self.id = id\n",
    "        def personalDetails(self):\n",
    "            return super(Tutor, self).personalDetails(), \n",
    "            self.salary, self.id \n",
    "\n",
    "class Student(Person):\n",
    "        def __init__(self, first_name, surname, title, address, age, id, *other_names):\n",
    "            super(Student, self).__init__(first_name, surname, title, address, age, *other_names)\n",
    "            self.id = id\n",
    "            \n",
    "        def personalDetails(self):\n",
    "            return super(Student, self).personalDetails(),self.id \n",
    "        \n",
    "class distance_student(Student):\n",
    "        def __init__(self, first_name, surname, title, address, age, id, current_module, *other_names):\n",
    "            super(distance_student, self).__init__(first_name, surname, title, address, age, *other_names)\n",
    "            self.id = id\n",
    "            self.current_module = current_module\n",
    "            self.formal_name = Name(first_name, surname, title, *other_names).formal_name() #composition\n",
    "            \n",
    "        def personal_details(self):\n",
    "            return super(distance_student, self).personal_details(), self.id,\\\n",
    "                self.current_module\n",
    "        \n",
    "        def required_output(self):\n",
    "            print(f\"{super(distance_student, self).personal_details()[1]} is currently studying the {self.current_module} module\")"
   ]
  },
  {
   "cell_type": "code",
   "execution_count": 317,
   "metadata": {},
   "outputs": [],
   "source": [
    "bloke = distance_student('John', 'Greenhold', 'Mr', 'The Palace', \n",
    "                         'Mind your own', '123456789', 'Advanced programming', 'St. John')"
   ]
  },
  {
   "cell_type": "code",
   "execution_count": 318,
   "metadata": {},
   "outputs": [
    {
     "data": {
      "text/plain": [
       "(('John Greenhold', 'Mr. J. S. Greenhold', 'The Palace', 'Mind your own'),\n",
       " '123456789',\n",
       " 'Advanced programming')"
      ]
     },
     "execution_count": 318,
     "metadata": {},
     "output_type": "execute_result"
    }
   ],
   "source": [
    "bloke.personal_details()"
   ]
  },
  {
   "cell_type": "code",
   "execution_count": 319,
   "metadata": {},
   "outputs": [
    {
     "name": "stdout",
     "output_type": "stream",
     "text": [
      "Mr. J. S. Greenhold is currently studying the Advanced programming module\n"
     ]
    }
   ],
   "source": [
    "bloke.required_output()"
   ]
  }
 ],
 "metadata": {
  "kernelspec": {
   "display_name": "Python 3",
   "language": "python",
   "name": "python3"
  },
  "language_info": {
   "codemirror_mode": {
    "name": "ipython",
    "version": 3
   },
   "file_extension": ".py",
   "mimetype": "text/x-python",
   "name": "python",
   "nbconvert_exporter": "python",
   "pygments_lexer": "ipython3",
   "version": "3.8.3"
  }
 },
 "nbformat": 4,
 "nbformat_minor": 4
}
