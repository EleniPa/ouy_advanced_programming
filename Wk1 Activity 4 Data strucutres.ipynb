{
 "cells": [
  {
   "cell_type": "code",
   "execution_count": null,
   "metadata": {},
   "outputs": [],
   "source": [
    "#1. Stack\n",
    "\n",
    "stack = []\n",
    "choice = input(\n",
    "    \"\"\"\n",
    "    What would you like to do?\n",
    "    1. Push\n",
    "    2. Pop\n",
    "    3. View\n",
    "    4. Exit\n",
    "    \"\"\")\n",
    "\n",
    "while True:\n",
    "    if choice == '1':\n",
    "        push = input(\"Please enter value to push onto stack\")\n",
    "        stack.append(push)\n",
    "        choice = input(\n",
    "\"\"\"\n",
    "What would you like to do next?\n",
    "1. Push\n",
    "2. Pop\n",
    "3. View\n",
    "4. Exit\n",
    "                \"\"\")\n",
    "    elif choice == '2':\n",
    "        stack.pop()\n",
    "        choice = input(\n",
    "\"\"\"\n",
    "What would you like to do next?\n",
    "1. Push\n",
    "2. Pop\n",
    "3. View\n",
    "4. Exit\n",
    "                \"\"\")\n",
    "    elif choice == '3':\n",
    "        print(stack)\n",
    "        choice = input(\n",
    "\"\"\"\n",
    "What would you like to do next?\n",
    "1. Push\n",
    "2. Pop\n",
    "3. View\n",
    "4. Exit\n",
    "\"\"\")\n",
    "    elif choice == '4':\n",
    "        break\n",
    "    else: choice = input(\n",
    "\"\"\"\n",
    "Incorrect value entered.\n",
    "What would you like to do?\n",
    "1. Push\n",
    "2. Pop\n",
    "3. View\n",
    "4. Exit\n",
    "    \"\"\")"
   ]
  },
  {
   "cell_type": "code",
   "execution_count": 43,
   "metadata": {
    "scrolled": true
   },
   "outputs": [
    {
     "name": "stdout",
     "output_type": "stream",
     "text": [
      "London   \tL3:  £338.00 \t£1014.00\n",
      "Paris   \tP2:  £273.33 \t£820.00\n",
      "New York   \tN6:  £463.33 \t£1390.00\n",
      "Beijing   \tB8:  £446.67 \t£1340.00\n",
      "\n",
      "\n",
      "\t\tQ1:  £392.50 \t£1570.00\n",
      "\t\tQ2:  £401.25 \t£1605.00\n",
      "\t\tQ3:  £344.75 \t£1379.00\n",
      "\n",
      "\n",
      "Total: £4554.00\n"
     ]
    }
   ],
   "source": [
    "# 2. sales report\n",
    "\n",
    "store_sales = {'L3': [390, 345, 279], 'P2': [250, 270, 300], 'N6': [460, 480, 450], 'B8': [470, 510, 360]}\n",
    "quarter_sales = {'Q1': [390, 250, 460, 470], 'Q2': [345, 270, 480, 510], 'Q3': [279, 300, 450, 350]}\n",
    "store_codes = {'London': 'L3', 'Paris': 'P2', 'New York': 'N6', 'Beijing': 'B8'}\n",
    "\n",
    "for k, v in store_codes.items():\n",
    "    store = store_codes.get(k)\n",
    "    sales = store_sales.get(store)\n",
    "    store_sales_total = sum(sales)\n",
    "    store_sales_av = store_sales_total/len(sales)\n",
    "    print(f\"{k}   \\t{store}:  £{store_sales_av:.2f} \\t£{store_sales_total:.2f}\")\n",
    "\n",
    "print(\"\\n\")\n",
    "\n",
    "total_sales = []\n",
    "for k, v in quarter_sales.items():\n",
    "    sales = quarter_sales.get(k)\n",
    "    quarter_sales_total = sum(sales)\n",
    "    quarter_sales_av = quarter_sales_total/len(sales)\n",
    "    total_sales.extend(sales)\n",
    "    print(f\"\\t\\t{k}:  £{quarter_sales_av:.2f} \\t£{quarter_sales_total:.2f}\")\n",
    " \n",
    "print(\"\\n\")\n",
    "\n",
    "\n",
    "print(f\"Total: £{sum(total_sales):.2f}\")\n",
    "   "
   ]
  },
  {
   "cell_type": "code",
   "execution_count": null,
   "metadata": {},
   "outputs": [],
   "source": []
  }
 ],
 "metadata": {
  "kernelspec": {
   "display_name": "Python 3",
   "language": "python",
   "name": "python3"
  },
  "language_info": {
   "codemirror_mode": {
    "name": "ipython",
    "version": 3
   },
   "file_extension": ".py",
   "mimetype": "text/x-python",
   "name": "python",
   "nbconvert_exporter": "python",
   "pygments_lexer": "ipython3",
   "version": "3.8.3"
  }
 },
 "nbformat": 4,
 "nbformat_minor": 4
}
